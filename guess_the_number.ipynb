{
 "cells": [
  {
   "cell_type": "code",
   "execution_count": 1,
   "id": "0c9123b7",
   "metadata": {},
   "outputs": [
    {
     "name": "stdout",
     "output_type": "stream",
     "text": [
      "Escribe tu nombre en este espacioJuan Carlos\n",
      "Hola! Juan Carlos\n",
      "¿Te gustaría jugar?\n",
      "1) Si\n",
      "2) No\n",
      "Escribe 1 si es si y 2 si es no1\n",
      "Estoy pensando un número entre 1 y 10\n",
      "Tienes tres inentos para realizar la tarea\n",
      "Intentalo!5\n",
      "tu número es más grande que el que estoy pensando\n",
      "Intentalo!3\n",
      "tu número es más grande que el que estoy pensando\n",
      "Intentalo!2\n",
      "Ya ganaste!\n",
      "El número de intentos fue 3\n"
     ]
    }
   ],
   "source": [
    "import random\n",
    "numero = random.randint(1, 10)\n",
    "intentos = 0\n",
    "\n",
    "nombredeusuario = input('Escribe tu nombre en este espacio')\n",
    "\n",
    "\n",
    "print( f'Hola! {nombredeusuario}')\n",
    "print('¿Te gustaría jugar?')\n",
    "print('1) Si')\n",
    "print('2) No')\n",
    "\n",
    "opcion = int(input('Escribe 1 si es si y 2 si es no'))\n",
    "\n",
    "if opcion == 1:\n",
    "    print('Estoy pensando un número entre 1 y 10')\n",
    "    print('Tienes tres inentos para realizar la tarea')\n",
    "    aleatorio = 0\n",
    "    \n",
    "    while aleatorio != numero and intentos < 3 :\n",
    "        aleatorio = int(input('Intentalo!'))\n",
    "        intentos += 1\n",
    "        \n",
    "        if aleatorio > numero:\n",
    "            print('tu número es más grande que el que estoy pensando')\n",
    "        if aleatorio < numero: \n",
    "            print(\"Tu número es más pequeño que el que estoy pensando\")\n",
    "    \n",
    "    if aleatorio == numero: \n",
    "        print('Ya ganaste!')\n",
    "        print(f'El número de intentos fue {intentos}')\n",
    "    else: \n",
    "        print('perdiste!!')\n",
    "    \n",
    "elif opcion == 2:\n",
    "    print('Lástima, yo si quería jugar!')\n",
    "else: \n",
    "    print('opción invállida')"
   ]
  }
 ],
 "metadata": {
  "kernelspec": {
   "display_name": "Python 3 (ipykernel)",
   "language": "python",
   "name": "python3"
  },
  "language_info": {
   "codemirror_mode": {
    "name": "ipython",
    "version": 3
   },
   "file_extension": ".py",
   "mimetype": "text/x-python",
   "name": "python",
   "nbconvert_exporter": "python",
   "pygments_lexer": "ipython3",
   "version": "3.9.7"
  }
 },
 "nbformat": 4,
 "nbformat_minor": 5
}
